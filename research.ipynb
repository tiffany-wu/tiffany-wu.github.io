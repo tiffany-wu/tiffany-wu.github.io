{
  "cells": [
    {
      "cell_type": "raw",
      "metadata": {},
      "source": [
        "---\n",
        "title: Research\n",
        "title-block-banner: research_top.png\n",
        "output:\n",
        "  html_document:\n",
        "    css:styles.css\n",
        "---"
      ],
      "id": "d74b2abc"
    },
    {
      "cell_type": "markdown",
      "metadata": {},
      "source": [
        "```{css formatting, echo = FALSE}\n",
        "#title-block-banner {\n",
        "    background-image: url('research_top.png');\n",
        "    background-size: cover;\n",
        "    height: 400px;\n",
        "    opacity: 0.7;\n",
        "}\n",
        "\n",
        "```"
      ],
      "id": "16337af5"
    }
  ],
  "metadata": {
    "kernelspec": {
      "name": "python3",
      "language": "python",
      "display_name": "Python 3 (ipykernel)"
    }
  },
  "nbformat": 4,
  "nbformat_minor": 5
}